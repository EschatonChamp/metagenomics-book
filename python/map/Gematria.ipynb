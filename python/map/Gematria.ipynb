{
 "cells": [
  {
   "cell_type": "markdown",
   "metadata": {},
   "source": [
    "\"Gematria\" is a system for assigning a number to a word by summing the numeric values of each of the letters as defined by the Mispar godol (https://en.wikipedia.org/wiki/Gematria). For English characters, we can use the ASCII table (https://en.wikipedia.org/wiki/ASCII). It is not necessary, however, to encode this table in our program as Python provides the `ord` function to convert a character to its \"ordinal\" (order in the ASCII table) value as well as the `chr` function to convert a number to its \"character.\""
   ]
  },
  {
   "cell_type": "code",
   "execution_count": 124,
   "metadata": {},
   "outputs": [
    {
     "name": "stdout",
     "output_type": "stream",
     "text": [
      "\"A\" = \"65\"\n",
      "\"a\" = \"97\"\n",
      "\"88\" = \"X\"\n",
      "\"112\" = \"p\"\n"
     ]
    }
   ],
   "source": [
    "print('\"{}\" = \"{}\"'.format('A', ord('A')))\n",
    "print('\"{}\" = \"{}\"'.format('a', ord('a')))\n",
    "print('\"{}\" = \"{}\"'.format(88, chr(88)))\n",
    "print('\"{}\" = \"{}\"'.format(112, chr(112)))"
   ]
  },
  {
   "cell_type": "markdown",
   "metadata": {},
   "source": [
    "To convert a word to a value in Python, we need to turn each letter into a number and add them all together.  So, to start, note that Python can use a `for` loop to cycle through all the members of a list (in order):"
   ]
  },
  {
   "cell_type": "code",
   "execution_count": 125,
   "metadata": {},
   "outputs": [
    {
     "name": "stdout",
     "output_type": "stream",
     "text": [
      "0\n",
      "1\n",
      "2\n",
      "3\n",
      "4\n",
      "p\n",
      "y\n",
      "t\n",
      "h\n",
      "o\n",
      "n\n"
     ]
    }
   ],
   "source": [
    "for n in range(5):\n",
    "    print(n)\n",
    "    \n",
    "for char in ['p', 'y', 't', 'h', 'o', 'n']:\n",
    "    print(char)"
   ]
  },
  {
   "cell_type": "markdown",
   "metadata": {},
   "source": [
    "A \"word\" is simply a list of characters, so we can iterate over it just like a list of numbers:"
   ]
  },
  {
   "cell_type": "code",
   "execution_count": 126,
   "metadata": {},
   "outputs": [
    {
     "name": "stdout",
     "output_type": "stream",
     "text": [
      "p\n",
      "y\n",
      "t\n",
      "h\n",
      "o\n",
      "n\n"
     ]
    }
   ],
   "source": [
    "for char in \"python\":\n",
    "    print(char)"
   ]
  },
  {
   "cell_type": "markdown",
   "metadata": {},
   "source": [
    "Let's print the ordinal (ASCII) value instead:"
   ]
  },
  {
   "cell_type": "code",
   "execution_count": 127,
   "metadata": {},
   "outputs": [
    {
     "name": "stdout",
     "output_type": "stream",
     "text": [
      "\"p\" = \"112\"\n",
      "\"y\" = \"121\"\n",
      "\"t\" = \"116\"\n",
      "\"h\" = \"104\"\n",
      "\"o\" = \"111\"\n",
      "\"n\" = \"110\"\n"
     ]
    }
   ],
   "source": [
    "for char in \"python\":\n",
    "    ascii_value = ord(char)\n",
    "    print('\"{}\" = \"{}\"'.format(char, ascii_value))"
   ]
  },
  {
   "cell_type": "markdown",
   "metadata": {},
   "source": [
    "Now let's create a variable to hold the running sum of the values:"
   ]
  },
  {
   "cell_type": "code",
   "execution_count": 147,
   "metadata": {},
   "outputs": [
    {
     "name": "stdout",
     "output_type": "stream",
     "text": [
      "\"python\" = \"674\"\n"
     ]
    }
   ],
   "source": [
    "word = \"python\"\n",
    "total = 0\n",
    "for char in word: \n",
    "    total += ord(char)\n",
    "\n",
    "print('\"{}\" = \"{}\"'.format(word, total))"
   ]
  },
  {
   "cell_type": "markdown",
   "metadata": {},
   "source": [
    "Another way could be to create another list to hold the values and then use the `sum` function:"
   ]
  },
  {
   "cell_type": "code",
   "execution_count": 148,
   "metadata": {},
   "outputs": [
    {
     "name": "stdout",
     "output_type": "stream",
     "text": [
      "[112, 121, 116, 104, 111, 110]\n",
      "\"python\" = \"674\"\n"
     ]
    }
   ],
   "source": [
    "word = \"python\"\n",
    "all = []\n",
    "for c in word: \n",
    "    all.append(ord(c))\n",
    "\n",
    "print(all)\n",
    "print('\"{}\" = \"{}\"'.format(word, sum(all)))"
   ]
  },
  {
   "cell_type": "markdown",
   "metadata": {},
   "source": [
    "We can use a `map` function to transform all the characters via the `ord` function. This is interesting because `map` is a function that takes another function as its first argument. The second is a list of items to feed into the function. The result is the transformed list. For instance, we can use the `str.upper` function to turn each letter (e.g., \"p\") into the upper-case version (\"P). NB: it's necessary to force the results into a `list`."
   ]
  },
  {
   "cell_type": "code",
   "execution_count": 130,
   "metadata": {},
   "outputs": [
    {
     "data": {
      "text/plain": [
       "['P', 'Y', 'T', 'H', 'O', 'N']"
      ]
     },
     "execution_count": 130,
     "metadata": {},
     "output_type": "execute_result"
    }
   ],
   "source": [
    "list(map(str.upper, \"python\"))"
   ]
  },
  {
   "cell_type": "code",
   "execution_count": 131,
   "metadata": {},
   "outputs": [
    {
     "data": {
      "text/plain": [
       "[112, 121, 116, 104, 111, 110]"
      ]
     },
     "execution_count": 131,
     "metadata": {},
     "output_type": "execute_result"
    }
   ],
   "source": [
    "list(map(ord, \"python\"))"
   ]
  },
  {
   "cell_type": "markdown",
   "metadata": {},
   "source": [
    "Now we can `sum` those numbers:"
   ]
  },
  {
   "cell_type": "code",
   "execution_count": 132,
   "metadata": {},
   "outputs": [
    {
     "data": {
      "text/plain": [
       "674"
      ]
     },
     "execution_count": 132,
     "metadata": {},
     "output_type": "execute_result"
    }
   ],
   "source": [
    "sum(map(ord, \"python\"))"
   ]
  },
  {
   "cell_type": "markdown",
   "metadata": {},
   "source": [
    "Now let's think about how we could apply this to all the words in a file. As above, we can use a `for` loop to iterate over all the lines in a file:"
   ]
  },
  {
   "cell_type": "code",
   "execution_count": 133,
   "metadata": {},
   "outputs": [
    {
     "name": "stdout",
     "output_type": "stream",
     "text": [
      "Four score and seven years ago our fathers brought forth on this\n",
      "\n",
      "continent, a new nation, conceived in Liberty, and dedicated to the\n",
      "\n",
      "proposition that all men are created equal.\n",
      "\n"
     ]
    }
   ],
   "source": [
    "for line in open('gettysburg.txt'):\n",
    "    print(line)"
   ]
  },
  {
   "cell_type": "markdown",
   "metadata": {},
   "source": [
    "The original is single-spaced, so why is this printing double-spaced? The `for` loop reads each \"line\" which is a string of text up to and including a newline (\"\\n\"). The `print` by default adds a newline, so we either need to `print(line, end='')` to indicate we don't want anything at the end:"
   ]
  },
  {
   "cell_type": "code",
   "execution_count": 134,
   "metadata": {},
   "outputs": [
    {
     "name": "stdout",
     "output_type": "stream",
     "text": [
      "Four score and seven years ago our fathers brought forth on this\n",
      "continent, a new nation, conceived in Liberty, and dedicated to the\n",
      "proposition that all men are created equal.\n"
     ]
    }
   ],
   "source": [
    "for line in open('gettysburg.txt'):\n",
    "    print(line, end='')"
   ]
  },
  {
   "cell_type": "markdown",
   "metadata": {},
   "source": [
    "Or we need to use the `rstrip` function to \"strip\" whitespace off the \"r\"ight side of the line:"
   ]
  },
  {
   "cell_type": "code",
   "execution_count": 135,
   "metadata": {},
   "outputs": [
    {
     "name": "stdout",
     "output_type": "stream",
     "text": [
      "Four score and seven years ago our fathers brought forth on this\n",
      "continent, a new nation, conceived in Liberty, and dedicated to the\n",
      "proposition that all men are created equal.\n"
     ]
    }
   ],
   "source": [
    "for line in open('gettysburg.txt'):\n",
    "    print(line.rstrip())"
   ]
  },
  {
   "cell_type": "markdown",
   "metadata": {},
   "source": [
    "We can use the `split` function to get all the words for each line and a `for` loop to iterate over those:"
   ]
  },
  {
   "cell_type": "code",
   "execution_count": 136,
   "metadata": {},
   "outputs": [
    {
     "name": "stdout",
     "output_type": "stream",
     "text": [
      "Four\n",
      "score\n",
      "and\n",
      "seven\n",
      "years\n",
      "ago\n",
      "our\n",
      "fathers\n",
      "brought\n",
      "forth\n",
      "on\n",
      "this\n",
      "continent,\n",
      "a\n",
      "new\n",
      "nation,\n",
      "conceived\n",
      "in\n",
      "Liberty,\n",
      "and\n",
      "dedicated\n",
      "to\n",
      "the\n",
      "proposition\n",
      "that\n",
      "all\n",
      "men\n",
      "are\n",
      "created\n",
      "equal.\n"
     ]
    }
   ],
   "source": [
    "for line in open('gettysburg.txt'):\n",
    "    for word in line.rstrip().split():\n",
    "        print(word)"
   ]
  },
  {
   "cell_type": "markdown",
   "metadata": {},
   "source": [
    "We want to get rid of anything that is not character like the punctuation. There is a function in the `str` library called `isalpha` that returns `True` or `False`:"
   ]
  },
  {
   "cell_type": "code",
   "execution_count": 137,
   "metadata": {},
   "outputs": [
    {
     "name": "stdout",
     "output_type": "stream",
     "text": [
      "\"a\" = \"True\"\n",
      "\"8\" = \"False\"\n",
      "\",\" = \"False\"\n",
      "\"X\" = \"True\"\n",
      "\".\" = \"False\"\n",
      "\"b\" = \"True\"\n",
      "\"!\" = \"False\"\n",
      "\"G\" = \"True\"\n"
     ]
    }
   ],
   "source": [
    "for x in \"a8,X.b!G\":\n",
    "    print('\"{}\" = \"{}\"'.format(x, str.isalpha(x)))"
   ]
  },
  {
   "cell_type": "markdown",
   "metadata": {},
   "source": [
    "Each `x` in the loop is itself a string, so we can call the method directly on the variable:"
   ]
  },
  {
   "cell_type": "code",
   "execution_count": 138,
   "metadata": {},
   "outputs": [
    {
     "name": "stdout",
     "output_type": "stream",
     "text": [
      "\"a\" = \"True\"\n",
      "\"8\" = \"False\"\n",
      "\",\" = \"False\"\n",
      "\"X\" = \"True\"\n",
      "\".\" = \"False\"\n",
      "\"b\" = \"True\"\n",
      "\"!\" = \"False\"\n",
      "\"G\" = \"True\"\n"
     ]
    }
   ],
   "source": [
    "for x in \"a8,X.b!G\":\n",
    "    print('\"{}\" = \"{}\"'.format(x, x.isalpha()))"
   ]
  },
  {
   "cell_type": "markdown",
   "metadata": {},
   "source": [
    "Similar to what we saw above with the `map` function, we can use `filter` to find all the characters in a string which are `True` for `isalpha`. `filter` is another \"higher-order function\" that takes another function for its first argument (called the \"predicate\") and a list as the second argument. Whereas `map` returns *all* the elements of the list transformed by the function, `filter` returns *only those for which the predicate is true*."
   ]
  },
  {
   "cell_type": "code",
   "execution_count": 139,
   "metadata": {},
   "outputs": [
    {
     "data": {
      "text/plain": [
       "['a', 'X', 'b', 'G']"
      ]
     },
     "execution_count": 139,
     "metadata": {},
     "output_type": "execute_result"
    }
   ],
   "source": [
    "list(filter(str.isalpha, \"a8,X.b!G\"))"
   ]
  },
  {
   "cell_type": "markdown",
   "metadata": {},
   "source": [
    "The first argument for `map` and `filter` is called the \"lambda,\" and sometimes you will see it written out explicitly like so:"
   ]
  },
  {
   "cell_type": "code",
   "execution_count": 140,
   "metadata": {},
   "outputs": [
    {
     "data": {
      "text/plain": [
       "['a', 'X', 'b', 'G']"
      ]
     },
     "execution_count": 140,
     "metadata": {},
     "output_type": "execute_result"
    }
   ],
   "source": [
    "list(filter(lambda char: char.isalpha(), \"a8,X.b!G\"))"
   ]
  },
  {
   "cell_type": "markdown",
   "metadata": {},
   "source": [
    "Here is a way to find only even numbers:"
   ]
  },
  {
   "cell_type": "code",
   "execution_count": 141,
   "metadata": {
    "scrolled": true
   },
   "outputs": [
    {
     "data": {
      "text/plain": [
       "[0, 2, 4, 6, 8]"
      ]
     },
     "execution_count": 141,
     "metadata": {},
     "output_type": "execute_result"
    }
   ],
   "source": [
    "list(filter(lambda x: x % 2 == 0, range(10)))"
   ]
  },
  {
   "cell_type": "markdown",
   "metadata": {},
   "source": [
    "Let's turn that list of characters back into a word with the `join` function:"
   ]
  },
  {
   "cell_type": "code",
   "execution_count": 142,
   "metadata": {},
   "outputs": [
    {
     "data": {
      "text/plain": [
       "'aXbG'"
      ]
     },
     "execution_count": 142,
     "metadata": {},
     "output_type": "execute_result"
    }
   ],
   "source": [
    "''.join(filter(str.isalpha, \"a8,X.b!G\"))"
   ]
  },
  {
   "cell_type": "markdown",
   "metadata": {},
   "source": [
    "So, going back to our Gettysburg example, here is a list of all the words without punctuation:"
   ]
  },
  {
   "cell_type": "code",
   "execution_count": 143,
   "metadata": {},
   "outputs": [
    {
     "name": "stdout",
     "output_type": "stream",
     "text": [
      "Four\n",
      "score\n",
      "and\n",
      "seven\n",
      "years\n",
      "ago\n",
      "our\n",
      "fathers\n",
      "brought\n",
      "forth\n",
      "on\n",
      "this\n",
      "continent\n",
      "a\n",
      "new\n",
      "nation\n",
      "conceived\n",
      "in\n",
      "Liberty\n",
      "and\n",
      "dedicated\n",
      "to\n",
      "the\n",
      "proposition\n",
      "that\n",
      "all\n",
      "men\n",
      "are\n",
      "created\n",
      "equal\n"
     ]
    }
   ],
   "source": [
    "for line in open('gettysburg.txt'):\n",
    "    for word in line.rstrip().split():\n",
    "        print(''.join(filter(str.isalpha, word)))"
   ]
  },
  {
   "cell_type": "markdown",
   "metadata": {},
   "source": [
    "Now, rather let's print the `sum` of the `chr` values for each cleaned up word:"
   ]
  },
  {
   "cell_type": "code",
   "execution_count": 144,
   "metadata": {},
   "outputs": [
    {
     "name": "stdout",
     "output_type": "stream",
     "text": [
      "\"Four\" = \"412\"\n",
      "\"score\" = \"540\"\n",
      "\"and\" = \"307\"\n",
      "\"seven\" = \"545\"\n",
      "\"years\" = \"548\"\n",
      "\"ago\" = \"311\"\n",
      "\"our\" = \"342\"\n",
      "\"fathers\" = \"749\"\n",
      "\"brought\" = \"763\"\n",
      "\"forth\" = \"547\"\n",
      "\"on\" = \"221\"\n",
      "\"this\" = \"440\"\n",
      "\"continent\" = \"978\"\n",
      "\"a\" = \"97\"\n",
      "\"new\" = \"330\"\n",
      "\"nation\" = \"649\"\n",
      "\"conceived\" = \"944\"\n",
      "\"in\" = \"215\"\n",
      "\"Liberty\" = \"731\"\n",
      "\"and\" = \"307\"\n",
      "\"dedicated\" = \"919\"\n",
      "\"to\" = \"227\"\n",
      "\"the\" = \"321\"\n",
      "\"proposition\" = \"1222\"\n",
      "\"that\" = \"433\"\n",
      "\"all\" = \"313\"\n",
      "\"men\" = \"320\"\n",
      "\"are\" = \"312\"\n",
      "\"created\" = \"728\"\n",
      "\"equal\" = \"536\"\n"
     ]
    }
   ],
   "source": [
    "for line in open('gettysburg.txt'):\n",
    "    for word in line.rstrip().split():\n",
    "        clean = ''.join(filter(str.isalpha, word))\n",
    "        print('\"{}\" = \"{}\"'.format(clean, sum(map(ord, clean))))"
   ]
  },
  {
   "cell_type": "markdown",
   "metadata": {},
   "source": [
    "Notice that we are calling `rstrip` for every line, so we could easily move that into a `map`, and the \"cleaning\" code can likewise be moved into a `map`:"
   ]
  },
  {
   "cell_type": "code",
   "execution_count": 145,
   "metadata": {},
   "outputs": [
    {
     "name": "stdout",
     "output_type": "stream",
     "text": [
      "\"Four\" = \"412\"\n",
      "\"score\" = \"540\"\n",
      "\"and\" = \"307\"\n",
      "\"seven\" = \"545\"\n",
      "\"years\" = \"548\"\n",
      "\"ago\" = \"311\"\n",
      "\"our\" = \"342\"\n",
      "\"fathers\" = \"749\"\n",
      "\"brought\" = \"763\"\n",
      "\"forth\" = \"547\"\n",
      "\"on\" = \"221\"\n",
      "\"this\" = \"440\"\n",
      "\"continent\" = \"978\"\n",
      "\"a\" = \"97\"\n",
      "\"new\" = \"330\"\n",
      "\"nation\" = \"649\"\n",
      "\"conceived\" = \"944\"\n",
      "\"in\" = \"215\"\n",
      "\"Liberty\" = \"731\"\n",
      "\"and\" = \"307\"\n",
      "\"dedicated\" = \"919\"\n",
      "\"to\" = \"227\"\n",
      "\"the\" = \"321\"\n",
      "\"proposition\" = \"1222\"\n",
      "\"that\" = \"433\"\n",
      "\"all\" = \"313\"\n",
      "\"men\" = \"320\"\n",
      "\"are\" = \"312\"\n",
      "\"created\" = \"728\"\n",
      "\"equal\" = \"536\"\n"
     ]
    }
   ],
   "source": [
    "for line in map(str.rstrip, open('gettysburg.txt')):\n",
    "    for word in map(lambda w: ''.join(filter(str.isalpha, w)), line.split()):\n",
    "        print('\"{}\" = \"{}\"'.format(word, sum(map(ord, word))))"
   ]
  },
  {
   "cell_type": "markdown",
   "metadata": {},
   "source": [
    "At this point, we have arguably sacrificed readability for the sake of using `map` and `filter` -- another instance of \"just because you can doesn't mean you should\"! \n",
    "\n",
    "We can improve readability, however, by creating our own functions with informative names:"
   ]
  },
  {
   "cell_type": "code",
   "execution_count": 146,
   "metadata": {},
   "outputs": [
    {
     "name": "stdout",
     "output_type": "stream",
     "text": [
      "\"Four\" = \"412\"\n",
      "\"score\" = \"540\"\n",
      "\"and\" = \"307\"\n",
      "\"seven\" = \"545\"\n",
      "\"years\" = \"548\"\n",
      "\"ago\" = \"311\"\n",
      "\"our\" = \"342\"\n",
      "\"fathers\" = \"749\"\n",
      "\"brought\" = \"763\"\n",
      "\"forth\" = \"547\"\n",
      "\"on\" = \"221\"\n",
      "\"this\" = \"440\"\n",
      "\"continent\" = \"978\"\n",
      "\"a\" = \"97\"\n",
      "\"new\" = \"330\"\n",
      "\"nation\" = \"649\"\n",
      "\"conceived\" = \"944\"\n",
      "\"in\" = \"215\"\n",
      "\"Liberty\" = \"731\"\n",
      "\"and\" = \"307\"\n",
      "\"dedicated\" = \"919\"\n",
      "\"to\" = \"227\"\n",
      "\"the\" = \"321\"\n",
      "\"proposition\" = \"1222\"\n",
      "\"that\" = \"433\"\n",
      "\"all\" = \"313\"\n",
      "\"men\" = \"320\"\n",
      "\"are\" = \"312\"\n",
      "\"created\" = \"728\"\n",
      "\"equal\" = \"536\"\n"
     ]
    }
   ],
   "source": [
    "def onlychars(word):\n",
    "    return ''.join(filter(str.isalpha, word))\n",
    "\n",
    "def word2num(word):\n",
    "    return sum(map(ord, word))\n",
    "\n",
    "for line in map(str.rstrip, open('gettysburg.txt')):\n",
    "    for word in map(onlychars, line.split()):\n",
    "        print('\"{}\" = \"{}\"'.format(word, word2num(word)))"
   ]
  },
  {
   "cell_type": "markdown",
   "metadata": {},
   "source": [
    "If the above makes sense, however, then you're starting to understand what is meant by a \"higher-order function\" (functions that take other functions as arguments)."
   ]
  }
 ],
 "metadata": {
  "kernelspec": {
   "display_name": "Python 3",
   "language": "python",
   "name": "python3"
  },
  "language_info": {
   "codemirror_mode": {
    "name": "ipython",
    "version": 3
   },
   "file_extension": ".py",
   "mimetype": "text/x-python",
   "name": "python",
   "nbconvert_exporter": "python",
   "pygments_lexer": "ipython3",
   "version": "3.6.4"
  }
 },
 "nbformat": 4,
 "nbformat_minor": 2
}
